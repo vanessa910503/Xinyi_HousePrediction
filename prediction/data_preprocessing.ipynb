{
 "cells": [
  {
   "cell_type": "markdown",
   "metadata": {},
   "source": [
    "# Data Preprocessing"
   ]
  },
  {
   "cell_type": "code",
   "execution_count": 11,
   "metadata": {},
   "outputs": [],
   "source": [
    "import pandas as pd\n",
    "import numpy as np"
   ]
  },
  {
   "cell_type": "code",
   "execution_count": 12,
   "metadata": {},
   "outputs": [],
   "source": [
    "# Load the data\n",
    "df = pd.read_csv('data/0326(初版).csv')"
   ]
  },
  {
   "cell_type": "markdown",
   "metadata": {},
   "source": [
    "### 處理 missing values"
   ]
  },
  {
   "cell_type": "code",
   "execution_count": 13,
   "metadata": {},
   "outputs": [],
   "source": [
    "# Check if there are any missing values\n",
    "missing_value = df.isnull().sum()\n",
    "missing_value = missing_value.reset_index()\n",
    "missing_value.columns = ['column_name', 'missing_values']\n",
    "# missing_value.to_csv('data/缺失值.csv', index=False)"
   ]
  },
  {
   "cell_type": "code",
   "execution_count": 14,
   "metadata": {},
   "outputs": [
    {
     "name": "stdout",
     "output_type": "stream",
     "text": [
      "(48441, 91)\n"
     ]
    }
   ],
   "source": [
    "# 移除不要的欄位\n",
    "df = df.drop(columns=['備註', '土地位置建物門牌', '物件編號', '移轉層次','總價元'])\n",
    "# 「都市土地使用分區」有缺值部分直接刪掉整條 row\n",
    "df = df.dropna(subset=['都市土地使用分區', '主要建材'])\n",
    "print(df.shape)"
   ]
  },
  {
   "cell_type": "markdown",
   "metadata": {},
   "source": [
    "### Converting to original columns names to more readable version"
   ]
  },
  {
   "cell_type": "code",
   "execution_count": 15,
   "metadata": {},
   "outputs": [],
   "source": [
    "rename_dict = {\n",
    "    'A': '政府機構',\n",
    "    'B': '各級學校',\n",
    "    'C': '醫療院所',\n",
    "    'D': '飯店旅館',\n",
    "    'E': '金融機構',\n",
    "    'F': '觀光旅遊',\n",
    "    'G': '休閒娛樂',\n",
    "    'H': '逛街購物',\n",
    "    'I': '餐飲小吃',\n",
    "    'J': '行車服務',\n",
    "    'K': '交通設施',\n",
    "    'L': '民間機構',\n",
    "    'X': '鄰避設施'\n",
    "}\n",
    "\n",
    "# Assuming your DataFrame is named df_cleaned\n",
    "df.rename(columns=rename_dict, inplace=True)"
   ]
  },
  {
   "cell_type": "markdown",
   "metadata": {},
   "source": [
    "### Check the data type"
   ]
  },
  {
   "cell_type": "code",
   "execution_count": 16,
   "metadata": {},
   "outputs": [],
   "source": [
    "# Convert `收盤指數` to float, removing any formatting that's causing it to be read as an object\n",
    "df['收盤指數'] = df['收盤指數'].str.replace(',', '').astype(float)"
   ]
  },
  {
   "cell_type": "code",
   "execution_count": 17,
   "metadata": {},
   "outputs": [],
   "source": [
    "# Check the data type of each column\n",
    "data_type = df.dtypes.reset_index()\n",
    "data_type.columns = ['column_name', 'data_type']\n",
    "data_type.to_csv('data/資料型態.csv', index=False)"
   ]
  },
  {
   "cell_type": "markdown",
   "metadata": {},
   "source": [
    "### Encoding Categorical Variables\n",
    "\n",
    "需要處理的欄位：都市土地使用分區、主要建材"
   ]
  },
  {
   "cell_type": "markdown",
   "metadata": {},
   "source": [
    "> **都市土地使用分區**"
   ]
  },
  {
   "cell_type": "code",
   "execution_count": 18,
   "metadata": {},
   "outputs": [],
   "source": [
    "land_distribution = df['都市土地使用分區'].value_counts()\n",
    "land_distribution = land_distribution.reset_index()\n",
    "land_distribution.columns = ['land_usage', 'count']\n",
    "# land_distribution.to_csv('data/都市土地使用分區.csv', index=False)"
   ]
  },
  {
   "cell_type": "code",
   "execution_count": 19,
   "metadata": {},
   "outputs": [
    {
     "data": {
      "text/plain": [
       "住     28315\n",
       "商     15655\n",
       "都市     3581\n",
       "工       884\n",
       "農         6\n",
       "Name: 都市土地使用分區, dtype: int64"
      ]
     },
     "execution_count": 19,
     "metadata": {},
     "output_type": "execute_result"
    }
   ],
   "source": [
    "# 把開頭是「都市：其他」的資料先全部變成一個種類：「都市」\n",
    "df['都市土地使用分區'] = df['都市土地使用分區'].apply(lambda x: '都市' if x.startswith('都市：其他:') else x)\n",
    "df['都市土地使用分區'].value_counts()"
   ]
  },
  {
   "cell_type": "code",
   "execution_count": 20,
   "metadata": {},
   "outputs": [
    {
     "data": {
      "text/html": [
       "<div>\n",
       "<style scoped>\n",
       "    .dataframe tbody tr th:only-of-type {\n",
       "        vertical-align: middle;\n",
       "    }\n",
       "\n",
       "    .dataframe tbody tr th {\n",
       "        vertical-align: top;\n",
       "    }\n",
       "\n",
       "    .dataframe thead th {\n",
       "        text-align: right;\n",
       "    }\n",
       "</style>\n",
       "<table border=\"1\" class=\"dataframe\">\n",
       "  <thead>\n",
       "    <tr style=\"text-align: right;\">\n",
       "      <th></th>\n",
       "      <th>土地移轉總面積平方公尺</th>\n",
       "      <th>交易年月日</th>\n",
       "      <th>總樓層數</th>\n",
       "      <th>主要建材</th>\n",
       "      <th>建物移轉總面積平方公尺</th>\n",
       "      <th>建物現況格局-房</th>\n",
       "      <th>建物現況格局-廳</th>\n",
       "      <th>建物現況格局-衛</th>\n",
       "      <th>建物現況格局-隔間</th>\n",
       "      <th>有無管理組織</th>\n",
       "      <th>...</th>\n",
       "      <th>車位類別_坡道機械</th>\n",
       "      <th>車位類別_塔式車位</th>\n",
       "      <th>土地</th>\n",
       "      <th>建物</th>\n",
       "      <th>車位</th>\n",
       "      <th>建物年齡</th>\n",
       "      <th>都市土地使用分區_商</th>\n",
       "      <th>都市土地使用分區_工</th>\n",
       "      <th>都市土地使用分區_農</th>\n",
       "      <th>都市土地使用分區_都市</th>\n",
       "    </tr>\n",
       "  </thead>\n",
       "  <tbody>\n",
       "    <tr>\n",
       "      <th>0</th>\n",
       "      <td>29.50</td>\n",
       "      <td>1100101</td>\n",
       "      <td>4</td>\n",
       "      <td>鋼筋混凝土加強磚造</td>\n",
       "      <td>86.21</td>\n",
       "      <td>3</td>\n",
       "      <td>2</td>\n",
       "      <td>1</td>\n",
       "      <td>1</td>\n",
       "      <td>0</td>\n",
       "      <td>...</td>\n",
       "      <td>0</td>\n",
       "      <td>0</td>\n",
       "      <td>1</td>\n",
       "      <td>1</td>\n",
       "      <td>0</td>\n",
       "      <td>18701</td>\n",
       "      <td>0</td>\n",
       "      <td>0</td>\n",
       "      <td>0</td>\n",
       "      <td>0</td>\n",
       "    </tr>\n",
       "    <tr>\n",
       "      <th>2</th>\n",
       "      <td>10.84</td>\n",
       "      <td>1100101</td>\n",
       "      <td>12</td>\n",
       "      <td>鋼筋混凝土造</td>\n",
       "      <td>82.75</td>\n",
       "      <td>2</td>\n",
       "      <td>1</td>\n",
       "      <td>0</td>\n",
       "      <td>1</td>\n",
       "      <td>1</td>\n",
       "      <td>...</td>\n",
       "      <td>0</td>\n",
       "      <td>0</td>\n",
       "      <td>2</td>\n",
       "      <td>1</td>\n",
       "      <td>0</td>\n",
       "      <td>15687</td>\n",
       "      <td>0</td>\n",
       "      <td>0</td>\n",
       "      <td>0</td>\n",
       "      <td>0</td>\n",
       "    </tr>\n",
       "    <tr>\n",
       "      <th>3</th>\n",
       "      <td>27.35</td>\n",
       "      <td>1100101</td>\n",
       "      <td>12</td>\n",
       "      <td>鋼筋混凝土造</td>\n",
       "      <td>169.77</td>\n",
       "      <td>1</td>\n",
       "      <td>1</td>\n",
       "      <td>1</td>\n",
       "      <td>1</td>\n",
       "      <td>1</td>\n",
       "      <td>...</td>\n",
       "      <td>0</td>\n",
       "      <td>0</td>\n",
       "      <td>1</td>\n",
       "      <td>2</td>\n",
       "      <td>0</td>\n",
       "      <td>11826</td>\n",
       "      <td>1</td>\n",
       "      <td>0</td>\n",
       "      <td>0</td>\n",
       "      <td>0</td>\n",
       "    </tr>\n",
       "    <tr>\n",
       "      <th>4</th>\n",
       "      <td>2.35</td>\n",
       "      <td>1100101</td>\n",
       "      <td>14</td>\n",
       "      <td>鋼筋混凝土造</td>\n",
       "      <td>22.61</td>\n",
       "      <td>1</td>\n",
       "      <td>1</td>\n",
       "      <td>1</td>\n",
       "      <td>1</td>\n",
       "      <td>1</td>\n",
       "      <td>...</td>\n",
       "      <td>0</td>\n",
       "      <td>0</td>\n",
       "      <td>1</td>\n",
       "      <td>1</td>\n",
       "      <td>0</td>\n",
       "      <td>14589</td>\n",
       "      <td>1</td>\n",
       "      <td>0</td>\n",
       "      <td>0</td>\n",
       "      <td>0</td>\n",
       "    </tr>\n",
       "    <tr>\n",
       "      <th>5</th>\n",
       "      <td>28.50</td>\n",
       "      <td>1100101</td>\n",
       "      <td>5</td>\n",
       "      <td>鋼筋混凝土造</td>\n",
       "      <td>132.08</td>\n",
       "      <td>3</td>\n",
       "      <td>3</td>\n",
       "      <td>2</td>\n",
       "      <td>1</td>\n",
       "      <td>0</td>\n",
       "      <td>...</td>\n",
       "      <td>0</td>\n",
       "      <td>0</td>\n",
       "      <td>1</td>\n",
       "      <td>1</td>\n",
       "      <td>0</td>\n",
       "      <td>13181</td>\n",
       "      <td>0</td>\n",
       "      <td>0</td>\n",
       "      <td>0</td>\n",
       "      <td>0</td>\n",
       "    </tr>\n",
       "  </tbody>\n",
       "</table>\n",
       "<p>5 rows × 94 columns</p>\n",
       "</div>"
      ],
      "text/plain": [
       "   土地移轉總面積平方公尺    交易年月日  總樓層數       主要建材  建物移轉總面積平方公尺  建物現況格局-房  建物現況格局-廳  \\\n",
       "0        29.50  1100101     4  鋼筋混凝土加強磚造        86.21         3         2   \n",
       "2        10.84  1100101    12     鋼筋混凝土造        82.75         2         1   \n",
       "3        27.35  1100101    12     鋼筋混凝土造       169.77         1         1   \n",
       "4         2.35  1100101    14     鋼筋混凝土造        22.61         1         1   \n",
       "5        28.50  1100101     5     鋼筋混凝土造       132.08         3         3   \n",
       "\n",
       "   建物現況格局-衛  建物現況格局-隔間  有無管理組織  ...  車位類別_坡道機械  車位類別_塔式車位  土地  建物  車位   建物年齡  \\\n",
       "0         1          1       0  ...          0          0   1   1   0  18701   \n",
       "2         0          1       1  ...          0          0   2   1   0  15687   \n",
       "3         1          1       1  ...          0          0   1   2   0  11826   \n",
       "4         1          1       1  ...          0          0   1   1   0  14589   \n",
       "5         2          1       0  ...          0          0   1   1   0  13181   \n",
       "\n",
       "   都市土地使用分區_商  都市土地使用分區_工  都市土地使用分區_農  都市土地使用分區_都市  \n",
       "0           0           0           0            0  \n",
       "2           0           0           0            0  \n",
       "3           1           0           0            0  \n",
       "4           1           0           0            0  \n",
       "5           0           0           0            0  \n",
       "\n",
       "[5 rows x 94 columns]"
      ]
     },
     "execution_count": 20,
     "metadata": {},
     "output_type": "execute_result"
    }
   ],
   "source": [
    "# 做 one-hot encoding\n",
    "df_encoded = pd.get_dummies(df, columns=['都市土地使用分區'], drop_first=True)\n",
    "df_encoded.head()"
   ]
  },
  {
   "cell_type": "markdown",
   "metadata": {},
   "source": [
    "> **主要建材**"
   ]
  },
  {
   "cell_type": "code",
   "execution_count": 21,
   "metadata": {},
   "outputs": [],
   "source": [
    "main_materials = df_encoded['主要建材'].value_counts()\n",
    "main_materials = main_materials.reset_index()\n",
    "main_materials.columns = ['main_materials', 'count']\n",
    "# main_materials.to_csv('data/主要建材.csv', index=False)"
   ]
  },
  {
   "cell_type": "code",
   "execution_count": 22,
   "metadata": {},
   "outputs": [
    {
     "name": "stdout",
     "output_type": "stream",
     "text": [
      "鋼筋混凝土造      43615\n",
      "鋼骨造          1505\n",
      "加強磚造         1503\n",
      "鋼骨鋼筋混凝土造     1410\n",
      "其他            408\n",
      "Name: 主要建材, dtype: int64\n"
     ]
    }
   ],
   "source": [
    "# 將 count 少於 100 的主要建材歸類為「其他」\n",
    "material_counts = df_encoded['主要建材'].value_counts()\n",
    "mask = material_counts < 100\n",
    "materials_to_replace = mask[mask].index.tolist()\n",
    "df_encoded['主要建材'] = df_encoded['主要建材'].apply(lambda x: '其他' if x in materials_to_replace else x)\n",
    "\n",
    "# Check the updated value counts\n",
    "print(df_encoded['主要建材'].value_counts())"
   ]
  },
  {
   "cell_type": "code",
   "execution_count": 23,
   "metadata": {},
   "outputs": [
    {
     "data": {
      "text/html": [
       "<div>\n",
       "<style scoped>\n",
       "    .dataframe tbody tr th:only-of-type {\n",
       "        vertical-align: middle;\n",
       "    }\n",
       "\n",
       "    .dataframe tbody tr th {\n",
       "        vertical-align: top;\n",
       "    }\n",
       "\n",
       "    .dataframe thead th {\n",
       "        text-align: right;\n",
       "    }\n",
       "</style>\n",
       "<table border=\"1\" class=\"dataframe\">\n",
       "  <thead>\n",
       "    <tr style=\"text-align: right;\">\n",
       "      <th></th>\n",
       "      <th>土地移轉總面積平方公尺</th>\n",
       "      <th>交易年月日</th>\n",
       "      <th>總樓層數</th>\n",
       "      <th>建物移轉總面積平方公尺</th>\n",
       "      <th>建物現況格局-房</th>\n",
       "      <th>建物現況格局-廳</th>\n",
       "      <th>建物現況格局-衛</th>\n",
       "      <th>建物現況格局-隔間</th>\n",
       "      <th>有無管理組織</th>\n",
       "      <th>單價元平方公尺</th>\n",
       "      <th>...</th>\n",
       "      <th>車位</th>\n",
       "      <th>建物年齡</th>\n",
       "      <th>都市土地使用分區_商</th>\n",
       "      <th>都市土地使用分區_工</th>\n",
       "      <th>都市土地使用分區_農</th>\n",
       "      <th>都市土地使用分區_都市</th>\n",
       "      <th>主要建材_加強磚造</th>\n",
       "      <th>主要建材_鋼筋混凝土造</th>\n",
       "      <th>主要建材_鋼骨造</th>\n",
       "      <th>主要建材_鋼骨鋼筋混凝土造</th>\n",
       "    </tr>\n",
       "  </thead>\n",
       "  <tbody>\n",
       "    <tr>\n",
       "      <th>0</th>\n",
       "      <td>29.50</td>\n",
       "      <td>1100101</td>\n",
       "      <td>4</td>\n",
       "      <td>86.21</td>\n",
       "      <td>3</td>\n",
       "      <td>2</td>\n",
       "      <td>1</td>\n",
       "      <td>1</td>\n",
       "      <td>0</td>\n",
       "      <td>133395.0</td>\n",
       "      <td>...</td>\n",
       "      <td>0</td>\n",
       "      <td>18701</td>\n",
       "      <td>0</td>\n",
       "      <td>0</td>\n",
       "      <td>0</td>\n",
       "      <td>0</td>\n",
       "      <td>0</td>\n",
       "      <td>0</td>\n",
       "      <td>0</td>\n",
       "      <td>0</td>\n",
       "    </tr>\n",
       "    <tr>\n",
       "      <th>2</th>\n",
       "      <td>10.84</td>\n",
       "      <td>1100101</td>\n",
       "      <td>12</td>\n",
       "      <td>82.75</td>\n",
       "      <td>2</td>\n",
       "      <td>1</td>\n",
       "      <td>0</td>\n",
       "      <td>1</td>\n",
       "      <td>1</td>\n",
       "      <td>223565.0</td>\n",
       "      <td>...</td>\n",
       "      <td>0</td>\n",
       "      <td>15687</td>\n",
       "      <td>0</td>\n",
       "      <td>0</td>\n",
       "      <td>0</td>\n",
       "      <td>0</td>\n",
       "      <td>0</td>\n",
       "      <td>1</td>\n",
       "      <td>0</td>\n",
       "      <td>0</td>\n",
       "    </tr>\n",
       "    <tr>\n",
       "      <th>3</th>\n",
       "      <td>27.35</td>\n",
       "      <td>1100101</td>\n",
       "      <td>12</td>\n",
       "      <td>169.77</td>\n",
       "      <td>1</td>\n",
       "      <td>1</td>\n",
       "      <td>1</td>\n",
       "      <td>1</td>\n",
       "      <td>1</td>\n",
       "      <td>111916.0</td>\n",
       "      <td>...</td>\n",
       "      <td>0</td>\n",
       "      <td>11826</td>\n",
       "      <td>1</td>\n",
       "      <td>0</td>\n",
       "      <td>0</td>\n",
       "      <td>0</td>\n",
       "      <td>0</td>\n",
       "      <td>1</td>\n",
       "      <td>0</td>\n",
       "      <td>0</td>\n",
       "    </tr>\n",
       "    <tr>\n",
       "      <th>4</th>\n",
       "      <td>2.35</td>\n",
       "      <td>1100101</td>\n",
       "      <td>14</td>\n",
       "      <td>22.61</td>\n",
       "      <td>1</td>\n",
       "      <td>1</td>\n",
       "      <td>1</td>\n",
       "      <td>1</td>\n",
       "      <td>1</td>\n",
       "      <td>176913.0</td>\n",
       "      <td>...</td>\n",
       "      <td>0</td>\n",
       "      <td>14589</td>\n",
       "      <td>1</td>\n",
       "      <td>0</td>\n",
       "      <td>0</td>\n",
       "      <td>0</td>\n",
       "      <td>0</td>\n",
       "      <td>1</td>\n",
       "      <td>0</td>\n",
       "      <td>0</td>\n",
       "    </tr>\n",
       "    <tr>\n",
       "      <th>5</th>\n",
       "      <td>28.50</td>\n",
       "      <td>1100101</td>\n",
       "      <td>5</td>\n",
       "      <td>132.08</td>\n",
       "      <td>3</td>\n",
       "      <td>3</td>\n",
       "      <td>2</td>\n",
       "      <td>1</td>\n",
       "      <td>0</td>\n",
       "      <td>264991.0</td>\n",
       "      <td>...</td>\n",
       "      <td>0</td>\n",
       "      <td>13181</td>\n",
       "      <td>0</td>\n",
       "      <td>0</td>\n",
       "      <td>0</td>\n",
       "      <td>0</td>\n",
       "      <td>0</td>\n",
       "      <td>1</td>\n",
       "      <td>0</td>\n",
       "      <td>0</td>\n",
       "    </tr>\n",
       "  </tbody>\n",
       "</table>\n",
       "<p>5 rows × 97 columns</p>\n",
       "</div>"
      ],
      "text/plain": [
       "   土地移轉總面積平方公尺    交易年月日  總樓層數  建物移轉總面積平方公尺  建物現況格局-房  建物現況格局-廳  建物現況格局-衛  \\\n",
       "0        29.50  1100101     4        86.21         3         2         1   \n",
       "2        10.84  1100101    12        82.75         2         1         0   \n",
       "3        27.35  1100101    12       169.77         1         1         1   \n",
       "4         2.35  1100101    14        22.61         1         1         1   \n",
       "5        28.50  1100101     5       132.08         3         3         2   \n",
       "\n",
       "   建物現況格局-隔間  有無管理組織   單價元平方公尺  ...  車位   建物年齡  都市土地使用分區_商  都市土地使用分區_工  \\\n",
       "0          1       0  133395.0  ...   0  18701           0           0   \n",
       "2          1       1  223565.0  ...   0  15687           0           0   \n",
       "3          1       1  111916.0  ...   0  11826           1           0   \n",
       "4          1       1  176913.0  ...   0  14589           1           0   \n",
       "5          1       0  264991.0  ...   0  13181           0           0   \n",
       "\n",
       "   都市土地使用分區_農  都市土地使用分區_都市  主要建材_加強磚造  主要建材_鋼筋混凝土造  主要建材_鋼骨造  主要建材_鋼骨鋼筋混凝土造  \n",
       "0           0            0          0            0         0              0  \n",
       "2           0            0          0            1         0              0  \n",
       "3           0            0          0            1         0              0  \n",
       "4           0            0          0            1         0              0  \n",
       "5           0            0          0            1         0              0  \n",
       "\n",
       "[5 rows x 97 columns]"
      ]
     },
     "execution_count": 23,
     "metadata": {},
     "output_type": "execute_result"
    }
   ],
   "source": [
    "# 做 one-hot encoding\n",
    "data = pd.get_dummies(df_encoded, columns=['主要建材'], drop_first=True)\n",
    "data.head()"
   ]
  },
  {
   "cell_type": "code",
   "execution_count": 24,
   "metadata": {},
   "outputs": [],
   "source": [
    "# Save the cleaned data\n",
    "data.to_csv('data/cleaned_data.csv', index=False)"
   ]
  },
  {
   "cell_type": "markdown",
   "metadata": {},
   "source": [
    "### Splitting the data (test / train)\n",
    "- 業主：交易日期 110 -112 年用來當Training，先確認該時間段的資料筆數，若是足夠的話可以用日期去切就好了\n",
    "- 但我看不懂他的意思，所以我用 20-80 切"
   ]
  },
  {
   "cell_type": "code",
   "execution_count": 55,
   "metadata": {},
   "outputs": [
    {
     "name": "stdout",
     "output_type": "stream",
     "text": [
      "Training data shape: (38752, 97)\n",
      "Test data shape: (9689, 97)\n"
     ]
    }
   ],
   "source": [
    "# First ensure the transaction date is an integer or string\n",
    "data['交易年月日'] = data['交易年月日'].astype(str)\n",
    "\n",
    "# Sort the DataFrame based on the transaction date\n",
    "data_sorted = data.sort_values(by='交易年月日')\n",
    "\n",
    "# Calculate the index at which to split the data (80% for training, 20% for testing)\n",
    "split_index = int(len(data_sorted) * 0.8)\n",
    "\n",
    "# Split the DataFrame into training and testing sets\n",
    "training_data = data_sorted[:split_index]\n",
    "test_data = data_sorted[split_index:]\n",
    "\n",
    "# Verify the split\n",
    "print(f\"Training data shape: {training_data.shape}\")\n",
    "print(f\"Test data shape: {test_data.shape}\")"
   ]
  }
 ],
 "metadata": {
  "kernelspec": {
   "display_name": "Python 3",
   "language": "python",
   "name": "python3"
  },
  "language_info": {
   "codemirror_mode": {
    "name": "ipython",
    "version": 3
   },
   "file_extension": ".py",
   "mimetype": "text/x-python",
   "name": "python",
   "nbconvert_exporter": "python",
   "pygments_lexer": "ipython3",
   "version": "3.10.9"
  }
 },
 "nbformat": 4,
 "nbformat_minor": 2
}
